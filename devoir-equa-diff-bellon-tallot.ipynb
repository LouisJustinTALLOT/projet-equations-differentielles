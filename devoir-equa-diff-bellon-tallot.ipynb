{
 "cells": [
  {
   "cell_type": "markdown",
   "metadata": {},
   "source": [
    "# Mathématiques - UE 11 - Projet numérique - Equations différentielles"
   ]
  },
  {
   "cell_type": "markdown",
   "metadata": {},
   "source": [
    "# Modèle proie – prédateur"
   ]
  },
  {
   "cell_type": "markdown",
   "metadata": {},
   "source": [
    "## Judith BELLON & Louis-Justin TALLOT"
   ]
  },
  {
   "cell_type": "markdown",
   "metadata": {},
   "source": [
    "### Préambule"
   ]
  },
  {
   "cell_type": "markdown",
   "metadata": {},
   "source": [
    "#### Dépendances logicielles"
   ]
  },
  {
   "cell_type": "code",
   "execution_count": null,
   "metadata": {},
   "outputs": [],
   "source": [
    "# Python Standard Library\n",
    "# -----------------------\n",
    "# import math "
   ]
  },
  {
   "cell_type": "code",
   "execution_count": null,
   "metadata": {},
   "outputs": [],
   "source": [
    "# Third-Party Libraries\n",
    "# ---------------------\n",
    "\n",
    "# Autograd & Numpy\n",
    "import autograd\n",
    "import autograd.numpy as np\n",
    "\n",
    "# Pandas\n",
    "import pandas as pd\n",
    "\n",
    "# Matplotlib\n",
    "%matplotlib notebook \n",
    "# permet de manipuler les figures 3D, de les faire tourner...\n",
    "import matplotlib as mpl\n",
    "import matplotlib.pyplot as plt\n",
    "plt.rcParams['figure.figsize'] = [7, 7] # [width, height] (inches). \n",
    "from mpl_toolkits.mplot3d import Axes3D\n",
    "\n",
    "# Jupyter & IPython\n",
    "from IPython.display import display"
   ]
  },
  {
   "cell_type": "code",
   "execution_count": null,
   "metadata": {},
   "outputs": [],
   "source": [
    "# Fonction utilitaire :\n",
    "\n",
    "def display_contour(f, x, y, levels):\n",
    "    X, Y = np.meshgrid(x, y)\n",
    "    Z = f(X, Y)\n",
    "    fig, ax = plt.subplots()\n",
    "    contour_set = plt.contour(\n",
    "        X, Y, Z, colors=\"grey\", \n",
    "        linestyles=\"dashed\", \n",
    "        levels=levels \n",
    "    )\n",
    "    ax.clabel(contour_set)\n",
    "    plt.grid(True)\n",
    "    plt.xlabel(\"$x_1$\") \n",
    "    plt.ylabel(\"$x_2$\")\n",
    "    plt.gca().set_aspect(\"equal\")"
   ]
  },
  {
   "cell_type": "markdown",
   "metadata": {},
   "source": [
    "#### Différentiation automatique"
   ]
  },
  {
   "cell_type": "markdown",
   "metadata": {},
   "source": [
    "On définit ici deux fonctions utilitaires, `grad` et `J`, permettant de calculer simplement le gradient d'une fonction scalaire de deux variables réelles et la matrice jacobienne d'une fonction vectorielle de deux variables réelles."
   ]
  },
  {
   "cell_type": "code",
   "execution_count": null,
   "metadata": {},
   "outputs": [],
   "source": [
    "def grad(f):\n",
    "    g = autograd.grad\n",
    "    def grad_f(x, y):\n",
    "        return np.array([g(f, 0)(x, y), g(f, 1)(x, y)])\n",
    "    return grad_f"
   ]
  },
  {
   "cell_type": "code",
   "execution_count": null,
   "metadata": {},
   "outputs": [],
   "source": [
    "def J(f):\n",
    "    j = autograd.jacobian\n",
    "    def J_f(x, y):\n",
    "        return np.array([j(f, 0)(x, y), j(f, 1)(x, y)]).T\n",
    "    return J_f"
   ]
  },
  {
   "cell_type": "markdown",
   "metadata": {},
   "source": [
    "                                             \n",
    "                                             \n",
    "                                                       \n",
    "                                                       \n",
    "                                                       \n",
    "                                                                    "
   ]
  },
  {
   "cell_type": "markdown",
   "metadata": {},
   "source": [
    "## Modèle proie - prédateur    "
   ]
  },
  {
   "cell_type": "markdown",
   "metadata": {},
   "source": [
    "Les équations de Lotka-Volterra, ou \"modèle proie-prédateur\", sont couramment utilisées pour décrire la dynamique de systèmes biologiques dans lesquels un prédateur et sa proie interagissent dans un milieu commun. Elles ont été proposées indépendamment par A. J. Lotka en 1925 et V. Volterra en 1926 et s'écrivent de la manière suivante : \n",
    "\n",
    "$$\\begin{cases} \\dot{x}_1 &=& x_1 \\:(\\alpha -\\beta \\, x_2) \\\\ \\dot{x}_2 &=& -x_2\\:(\\gamma - \\delta \\, x_1) \\end{cases}$$ \n",
    "\n",
    "où $x_1$ et $x_2$ désignent le nombre (positif) de proies et de prédateurs respectivement et $\\alpha$, $\\beta$, $\\gamma$, $\\delta$ sont des paramètres strictement positifs."
   ]
  },
  {
   "cell_type": "markdown",
   "metadata": {},
   "source": [
    "### Question 1\n",
    "Donner une interprétation physique à chaque terme de la dynamique. "
   ]
  },
  {
   "cell_type": "markdown",
   "metadata": {},
   "source": [
    "$\\alpha$, $\\beta$, $\\gamma$, $\\delta$ sont strictement positifs. Ainsi : \n",
    "\n",
    "* pour le nombre de proies $x_1$ : \n",
    "    * plus les proies sont nombreuses ($x_1$ augmente) plus celles-ci ce reproduisent et donc $\\dot x_1 >0$ d'où le terme $\\alpha \\: x_1$\n",
    "    * plus les prédateurs sont nombreux ($x_2$ augemente) et moins il y a de proies, qui sont chassées, d'où le terme $-\\beta \\: x_1\\,x_2$\n",
    "    \n",
    "* pour le nombre de prédateurs $x_2$ :\n",
    "    * plus il y a de prédateurs et plus ceux-ci se font concurrence pour l'accès à la nourriture (les proies), leur rythme de reproduction étant beaucoup plus lent que celui de leurs proies ; d'où le terme $-\\gamma \\: x_2$\n",
    "    * enfin, si le nombre de proies augmente, un plus grand nombre de prédateurs peuvent vivre sur une plus grande ressource, d'où le terme $+\\delta \\: x_1 \\, x_2$"
   ]
  },
  {
   "cell_type": "markdown",
   "metadata": {},
   "source": [
    "Montrer qu'il existe deux points d'équilibre $(0,0)$ et $\\bar{x}\\in \\mathbb{R}^*_+\\times\\mathbb{R}^*_+$."
   ]
  },
  {
   "cell_type": "markdown",
   "metadata": {},
   "source": [
    "Pour trouver les points d'équilibre, on résout le système suivant :\n",
    "\n",
    "$$\\begin{cases} 0 &=& x_1 \\:(\\alpha -\\beta \\, x_2) \\\\ 0 &=& -x_2\\:(\\gamma - \\delta \\, x_1) \\end{cases}$$ \n",
    "\n",
    "\n",
    "On a dans la première équation $x_1 = 0$ ou $(\\alpha-\\beta\\:x_2) = 0$.\n",
    "\n",
    "* Supposons $x_1 = 0$. On a alors dans la deuxième équation $\\gamma \\: x_2 = 0$ et $\\gamma>0$ d'où $x_2=0$. Ainsi $(0,0)$ est point d'équilibre du système.\n",
    "* On suppose maintenant $(x_1, x_2) \\neq (0,0)$. On a alors nécessairement $(\\alpha -\\beta \\, x_2)=0$ et $(\\gamma - \\delta \\, x_1) = 0$, d'où $(x_1, x_2) = \\left(\\dfrac{\\alpha}{\\beta},\\, \\dfrac{\\gamma}{\\delta}\\right)$.\n",
    "\n",
    "\n"
   ]
  },
  {
   "cell_type": "markdown",
   "metadata": {},
   "source": [
    "Que peut-on dire de leur stabilité à ce stade ?"
   ]
  },
  {
   "cell_type": "code",
   "execution_count": null,
   "metadata": {},
   "outputs": [],
   "source": []
  },
  {
   "cell_type": "markdown",
   "metadata": {},
   "source": [
    "### Question 2\n",
    "A l'aide des fonctions ``meshgrid`` et ``quiver``, visualiser graphiquement le champ de vecteurs. Intuiter le comportement des solutions. On pourra aussi utiliser `streamplot` pour visualiser le portrait de phase."
   ]
  },
  {
   "cell_type": "code",
   "execution_count": null,
   "metadata": {},
   "outputs": [],
   "source": [
    "alpha = 1\n",
    "beta = 1\n",
    "gamma = 1\n",
    "delta = 1"
   ]
  },
  {
   "cell_type": "code",
   "execution_count": null,
   "metadata": {},
   "outputs": [],
   "source": [
    "def derivees_LV(x1, x2):\n",
    "    return x1*(alpha - beta*x2), -x2*(gamma - delta*x1)\n"
   ]
  },
  {
   "cell_type": "code",
   "execution_count": null,
   "metadata": {},
   "outputs": [],
   "source": [
    "def champ_vecteurs_LV():\n",
    "    x = np.linspace(0,4,50)\n",
    "    y = np.linspace(0,4,50)\n",
    "    X, Y = np.meshgrid(x,y)\n",
    "    d_LV = np.vectorize(derivees_LV)\n",
    "    plt.quiver(X, Y, X*(alpha - beta*Y), -Y*(gamma - delta*X))\n",
    "    \n",
    "    plt.streamplot(X, Y, X*(alpha - beta*Y), -Y*(gamma - delta*X), color = -((X*(alpha-beta*Y))**2 + (-Y*(gamma - delta*X))**2), cmap=\"Oranges\")\n",
    "\n",
    "champ_vecteurs_LV()"
   ]
  },
  {
   "cell_type": "markdown",
   "metadata": {},
   "source": [
    "### Question 3\n",
    "Par le théorème de Cauchy-Lipschitz, démontrer que toute solution initialisée dans $\\mathbb{R}^*_+\\times\\mathbb{R}^*_+$ reste dans $\\mathbb{R}^*_+\\times\\mathbb{R}^*_+$ sur son ensemble de définition."
   ]
  },
  {
   "cell_type": "code",
   "execution_count": null,
   "metadata": {},
   "outputs": [],
   "source": []
  },
  {
   "cell_type": "markdown",
   "metadata": {},
   "source": [
    "### Question 4\n",
    "On considère la fonction $ H(x_1,x_2) = \\delta \\: x_1 - \\gamma \\ln x_1 + \\beta \\: x_2 - \\alpha \\ln x_2$ définie sur $\\mathbb{R}^*_+\\times\\mathbb{R}^*_+$. \n",
    "\n",
    "Calculer la dérivée de $H$ le long des solutions initialisées dans $\\mathbb{R}^*_+\\times\\mathbb{R}^*_+$. "
   ]
  },
  {
   "cell_type": "code",
   "execution_count": null,
   "metadata": {},
   "outputs": [],
   "source": []
  },
  {
   "cell_type": "markdown",
   "metadata": {},
   "source": [
    "En déduire que toute solution maximale initialisée dans $\\mathbb{R}^*_+\\times\\mathbb{R}^*_+$ est définie sur $\\mathbb{R}$ et que $\\bar{x}$ est stable."
   ]
  },
  {
   "cell_type": "code",
   "execution_count": null,
   "metadata": {},
   "outputs": [],
   "source": []
  },
  {
   "cell_type": "markdown",
   "metadata": {},
   "source": [
    "### Question 5\n",
    "Représenter les courbes de niveau de $H$. Qu'en conclut-on sur le comportement des solutions ?"
   ]
  },
  {
   "cell_type": "code",
   "execution_count": null,
   "metadata": {},
   "outputs": [],
   "source": [
    "def H(x1,x2):\n",
    "    return delta * x1 - gamma * np.log(x1) + beta * x2 - alpha * np.log(x2)"
   ]
  },
  {
   "cell_type": "code",
   "execution_count": null,
   "metadata": {},
   "outputs": [],
   "source": [
    "N = 50\n",
    "t = np.linspace(1/N, 3, N-1)\n",
    "display_contour(H,t, t, 15)"
   ]
  },
  {
   "cell_type": "markdown",
   "metadata": {},
   "source": [
    "On souhaite maintenant simuler numériquement les trajectoires."
   ]
  },
  {
   "cell_type": "markdown",
   "metadata": {},
   "source": [
    "### Question 6\n",
    "\n",
    "Coder une fonction du type\n",
    "```\n",
    "def solve_euler_explicit(f, x0, dt, t0, tf):\n",
    "     ...\n",
    "    return t, x\n",
    "```\n",
    "prenant en entrée :\n",
    "- une fonction `f`$:\\mathbb{R} \\times \\mathbb{R}^n \\to \\mathbb{R}^n$ quelconque \n",
    "- une condition initiale `x0`\n",
    "- un pas de temps `dt`\n",
    "- les temps initiaux et finaux `t0` et `tf`\n",
    "\n",
    "et renvoyant le vecteur des temps $t^j$ et de la solution $x^j$ du schéma d'Euler explicite appliqué à $\\dot{x}=f(t,x)$. "
   ]
  },
  {
   "cell_type": "code",
   "execution_count": null,
   "metadata": {},
   "outputs": [],
   "source": [
    "def solve_euler_explicit(f, x0, dt, t0, tf):\n",
    "    t = [t0]\n",
    "    x = [x0]\n",
    "    while t[-1] < tf:\n",
    "        x.append(x[-1] + dt * f(t[-1], x[-1]))\n",
    "        t.append(t[-1]+dt)\n",
    "    \n",
    "    return np.array(t), np.array(x)"
   ]
  },
  {
   "cell_type": "markdown",
   "metadata": {},
   "source": [
    "La tester sur une équation différentielle aux solutions exactes connues."
   ]
  },
  {
   "cell_type": "code",
   "execution_count": null,
   "metadata": {},
   "outputs": [],
   "source": [
    "t,x = solve_euler_explicit(lambda t,x:x, 0.36, 0.01,-1, 2)\n",
    "\n",
    "plt.plot(t,x)\n",
    "plt.grid();\n",
    "#plt.yscale('log')"
   ]
  },
  {
   "cell_type": "markdown",
   "metadata": {},
   "source": [
    " Vérifier la convergence du schéma lorsque $dt$ tend vers 0. "
   ]
  },
  {
   "cell_type": "code",
   "execution_count": null,
   "metadata": {},
   "outputs": [],
   "source": [
    "Maths à la main : "
   ]
  },
  {
   "cell_type": "code",
   "execution_count": null,
   "metadata": {},
   "outputs": [],
   "source": [
    "# Visualisation graphique :\n",
    "plt.figure()\n",
    "for i in range(6):\n",
    "    t,x = solve_euler_explicit(lambda t,x:x, 0.36, 10**(-i),-1, 2)\n",
    "\n",
    "    plt.plot(t,x, label = str(i))\n",
    "\n",
    "plt.legend()\n",
    "plt.grid();"
   ]
  },
  {
   "cell_type": "markdown",
   "metadata": {},
   "source": [
    "Comment visualiser graphiquement l'ordre de convergence ?"
   ]
  },
  {
   "source": [
    "Par définition, s’il existe $p \\in \\mathbb{N^*}$ et $c_v > 0 $ tels que $\\max_{1≤j≤J} ‖x_j−x(t_j)‖ ≤ c_v(∆t)^p $ pour tout ∆t, on dit que le schéma est convergent à l’ordre p. En passant au logarithme (qui est strictement croissant), cela revient à  $$ \\log(\\max_{1≤j≤J} ‖x_j−x(t_j)‖) ≤ \\log(c_v) + p \\log(∆t) $$\n",
    "Si l'on trace $\\log(\\max_{1≤j≤J} ‖x_j−x(t_j)‖)$ en fonction de $\\log(∆t)$, la pente donne alors l'ordre de convergence.\n",
    "\n",
    "*Remarque: pas tout à fait à cause du ≤, mais c'est pas facile à expliquer... *"
   ],
   "cell_type": "markdown",
   "metadata": {}
  },
  {
   "cell_type": "code",
   "execution_count": null,
   "metadata": {},
   "outputs": [],
   "source": [
    "plt.figure()\n",
    "delta_t = np.power(10, -np.linspace(0,5,20))\n",
    "liste_max = []\n",
    "for dt in delta_t:\n",
    "    t,x = solve_euler_explicit(lambda t,x:x, 1, dt,0, 2)\n",
    "    liste_max.append(max(abs(x-np.exp(t))))\n",
    "    \n",
    "   \n",
    "plt.plot(np.log(delta_t), np.log(np.array(liste_max)));\n",
    "#plt.xscale('log')\n",
    "#plt.yscale('log')\n",
    "\n",
    "#plt.grid();"
   ]
  },
  {
   "source": [
    "On obtient une pente de 1, ce qui permet de visualiser l'ordre 1 du schéma d'Euler."
   ],
   "cell_type": "markdown",
   "metadata": {}
  },
  {
   "cell_type": "markdown",
   "metadata": {},
   "source": [
    "### Question 7\n",
    "Utiliser le schéma d'Euler explicite pour simuler les équations de Lotka-Volterra. "
   ]
  },
  {
   "cell_type": "code",
   "execution_count": null,
   "metadata": {},
   "outputs": [],
   "source": [
    "def solve_euler_explicit(f, x0, dt, t0, tf):\n",
    "    t = [t0]\n",
    "    x = [x0]\n",
    "    while t[-1] < tf:\n",
    "        x.append(x[-1,:] + dt * f(t[-1], x[-1,:]))\n",
    "        t.append(t[-1]+dt)\n",
    "    \n",
    "    return np.array(t), np.array(x)\n",
    "\n",
    "t, x = solve_euler_explicit(lambda t,x:np.array(derivees_LV(x[0],x[1])), 1, 0.1,0, 2)\n",
    "\n",
    "plt.figure()\n",
    "plt.plot(t,x)\n",
    "                                                \n",
    "                            "
   ]
  },
  {
   "cell_type": "markdown",
   "metadata": {},
   "source": [
    "Que constate-t-on en temps long ? "
   ]
  },
  {
   "cell_type": "code",
   "execution_count": null,
   "metadata": {},
   "outputs": [],
   "source": [
    "le temps devient long"
   ]
  },
  {
   "cell_type": "markdown",
   "metadata": {},
   "source": [
    "Cette résolution vous semble-t-elle fidèle à la réalité ? On pourra tracer l'évolution de la fonction $H$."
   ]
  },
  {
   "cell_type": "code",
   "execution_count": null,
   "metadata": {},
   "outputs": [],
   "source": [
    "bah non"
   ]
  },
  {
   "cell_type": "markdown",
   "metadata": {},
   "source": [
    "### Question 8\n",
    "Coder maintenant une fonction du type\n",
    "```\n",
    "def solve_euler_implicit(f, x0, dt, t0, tf, itermax = 100):\n",
    "    ...\n",
    "    return t, x\n",
    "```\n",
    "donnant la solution d'un schéma d'Euler implicite appliqué à $\\dot{x}=f(t,x)$ selon la méthode présentée dans le cours. "
   ]
  },
  {
   "cell_type": "code",
   "execution_count": null,
   "metadata": {},
   "outputs": [],
   "source": [
    "pareil mais à droite"
   ]
  },
  {
   "cell_type": "markdown",
   "metadata": {},
   "source": [
    "Vérifier de nouveau sa convergence sur des solutions connues. "
   ]
  },
  {
   "cell_type": "code",
   "execution_count": null,
   "metadata": {},
   "outputs": [],
   "source": []
  },
  {
   "cell_type": "markdown",
   "metadata": {},
   "source": [
    "Que se passe-t-il cette fois-ci sur les équations de Lotka-Volterra ?"
   ]
  },
  {
   "cell_type": "code",
   "execution_count": null,
   "metadata": {},
   "outputs": [],
   "source": [
    "c'est mieux"
   ]
  },
  {
   "cell_type": "markdown",
   "metadata": {},
   "source": [
    "$\\qquad$                                                     "
   ]
  },
  {
   "cell_type": "markdown",
   "metadata": {},
   "source": [
    "On propose maintenant de modifier ces schémas de façon à stabiliser $H$ et assurer sa conservation le long des solutions numériques."
   ]
  },
  {
   "cell_type": "markdown",
   "metadata": {},
   "source": [
    "### Question 9\n",
    "Expliquer pourquoi les solutions de $\\begin{cases} \\dot{x}_1 &=& \\: \\, \\: x_1 \\: (\\alpha -\\beta \\: x_2) - u_1(x_1,x_2)\\cdot(H(x_1,x_2)-H_0) \\\\ \\dot{x}_2 &=& - x_2 \\:(\\gamma - \\delta \\:x_1) - u_2(x_1,x_2)\\cdot (H(x_1,x_2)-H_0) \\end{cases} $\n",
    "\n",
    "sont identiques à celles de Lotka-Volterra si $H_0 = H(x(0))$ pour tout choix de $u:\\mathbb{R}^2 \\to \\mathbb{R}^2$."
   ]
  },
  {
   "cell_type": "code",
   "execution_count": null,
   "metadata": {},
   "outputs": [],
   "source": []
  },
  {
   "cell_type": "markdown",
   "metadata": {},
   "source": [
    "### Question 10\n",
    "Soit $H_0\\in \\mathbb{R}$. Calculer la dérivée de $H-H_0$ le long des solutions de ce nouveau système. Montrer que l'on peut choisir $u$ tel que $$ \\frac{d }{dt} (H(x(t))-H_0) = -k || \\nabla H(x(t)) ||^2 (H(x(t))-H_0) \\ . $$ \n"
   ]
  },
  {
   "cell_type": "code",
   "execution_count": null,
   "metadata": {},
   "outputs": [],
   "source": []
  },
  {
   "cell_type": "markdown",
   "metadata": {},
   "source": [
    "En déduire qu'alors $H(x(t))$ converge exponentiellement vers $H_0$ lorsque $t$ tend vers l'infini si $x$ reste à une distance strictement positive de $\\bar{x}$."
   ]
  },
  {
   "cell_type": "code",
   "execution_count": null,
   "metadata": {},
   "outputs": [],
   "source": []
  },
  {
   "cell_type": "markdown",
   "metadata": {},
   "source": [
    "### Question 11\n",
    "En déduire comment modifier l'implémentation du schéma d'Euler pour assurer la stabilité de $H$. "
   ]
  },
  {
   "cell_type": "code",
   "execution_count": null,
   "metadata": {},
   "outputs": [],
   "source": []
  },
  {
   "cell_type": "markdown",
   "metadata": {},
   "source": [
    "Quel est le rôle de $k$ ? Peut-il être choisi arbitrairement grand ? Pourquoi ?"
   ]
  },
  {
   "cell_type": "code",
   "execution_count": null,
   "metadata": {},
   "outputs": [],
   "source": []
  }
 ],
 "metadata": {
  "celltoolbar": "Format de la Cellule Texte Brut",
  "kernelspec": {
   "display_name": "Python 3",
   "language": "python",
   "name": "python3"
  },
  "language_info": {
   "codemirror_mode": {
    "name": "ipython",
    "version": 3
   },
   "file_extension": ".py",
   "mimetype": "text/x-python",
   "name": "python",
   "nbconvert_exporter": "python",
   "pygments_lexer": "ipython3",
   "version": "3.8.5"
  }
 },
 "nbformat": 4,
 "nbformat_minor": 2
}
