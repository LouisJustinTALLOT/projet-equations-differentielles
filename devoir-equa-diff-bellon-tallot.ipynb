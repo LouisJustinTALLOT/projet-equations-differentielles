{
 "cells": [
  {
   "cell_type": "markdown",
   "metadata": {},
   "source": [
    "# Mathématiques - UE 11 - Projet numérique - Equations différentielles"
   ]
  },
  {
   "cell_type": "markdown",
   "metadata": {},
   "source": [
    "# Modèle proie – prédateur"
   ]
  },
  {
   "cell_type": "markdown",
   "metadata": {},
   "source": [
    "## Judith BELLON & Louis-Justin TALLOT"
   ]
  },
  {
   "cell_type": "markdown",
   "metadata": {},
   "source": [
    "### Préambule"
   ]
  },
  {
   "cell_type": "code",
   "execution_count": null,
   "metadata": {},
   "outputs": [],
   "source": [
    "# Third-Party Libraries\n",
    "# ---------------------\n",
    "\n",
    "# Numpy\n",
    "import numpy as np\n",
    "\n",
    "# Matplotlib\n",
    "import matplotlib.pyplot as plt\n",
    "plt.rcParams['figure.figsize'] = [7, 7] # [width, height] (inches). \n",
    "\n",
    "# Jupyter & IPython\n",
    "from IPython.display import display"
   ]
  },
  {
   "cell_type": "code",
   "execution_count": null,
   "metadata": {},
   "outputs": [],
   "source": [
    "# Fonction utilitaire :\n",
    "\n",
    "def display_contour(f, x, y, levels):\n",
    "    X, Y = np.meshgrid(x, y)\n",
    "    Z = f(X, Y)\n",
    "    fig, ax = plt.subplots()\n",
    "    contour_set = plt.contour(\n",
    "        X, Y, Z, colors=\"grey\", \n",
    "        linestyles=\"dashed\", \n",
    "        levels=levels \n",
    "    )\n",
    "    ax.clabel(contour_set)\n",
    "    plt.grid(True)\n",
    "    plt.xlabel(\"$x_1$\") \n",
    "    plt.ylabel(\"$x_2$\")\n",
    "    plt.gca().set_aspect(\"equal\")"
   ]
  },
  {
   "cell_type": "markdown",
   "metadata": {},
   "source": [
    "                                             \n",
    "                                             \n",
    "                                                       \n",
    "                                                       \n",
    "                                                       \n",
    "                                                                    "
   ]
  },
  {
   "cell_type": "markdown",
   "metadata": {},
   "source": [
    "## Modèle proie - prédateur    "
   ]
  },
  {
   "cell_type": "markdown",
   "metadata": {},
   "source": [
    "**Les équations de Lotka-Volterra, ou \"modèle proie-prédateur\", sont couramment utilisées pour décrire la dynamique de systèmes biologiques dans lesquels un prédateur et sa proie interagissent dans un milieu commun. Elles ont été proposées indépendamment par A. J. Lotka en 1925 et V. Volterra en 1926 et s'écrivent de la manière suivante :** \n",
    "\n",
    "$$\\begin{cases} \\dot{x}_1 &=& x_1 \\:(\\alpha -\\beta \\, x_2) \\\\ \\dot{x}_2 &=& -x_2\\:(\\gamma - \\delta \\, x_1) \\end{cases}$$ \n",
    "\n",
    "**où $x_1$ et $x_2$ désignent le nombre (positif) de proies et de prédateurs respectivement et $\\alpha$, $\\beta$, $\\gamma$, $\\delta$ sont des paramètres strictement positifs.**"
   ]
  },
  {
   "cell_type": "markdown",
   "metadata": {},
   "source": [
    "### Question 1\n",
    "**Donner une interprétation physique à chaque terme de la dynamique.**"
   ]
  },
  {
   "cell_type": "markdown",
   "metadata": {},
   "source": [
    "$\\alpha$, $\\beta$, $\\gamma$, $\\delta$ sont strictement positifs. Ainsi : \n",
    "\n",
    "* pour le nombre de proies $x_1$ : \n",
    "    * plus les proies sont nombreuses ($x_1$ augmente) plus celles-ci ce reproduisent et donc $\\dot x_1 >0$ d'où le terme $\\alpha \\: x_1$\n",
    "    * plus les prédateurs sont nombreux ($x_2$ augemente) et moins il y a de proies, qui sont chassées, d'où le terme $-\\beta \\: x_1\\,x_2$\n",
    "    \n",
    "* pour le nombre de prédateurs $x_2$ :\n",
    "    * plus il y a de prédateurs et plus ceux-ci se font concurrence pour l'accès à la nourriture (les proies), leur rythme de reproduction étant beaucoup plus lent que celui de leurs proies ; d'où le terme $-\\gamma \\: x_2$\n",
    "    * enfin, si le nombre de proies augmente, un plus grand nombre de prédateurs peuvent vivre sur une plus grande ressource, d'où le terme $+\\delta \\: x_1 \\, x_2$"
   ]
  },
  {
   "cell_type": "markdown",
   "metadata": {},
   "source": [
    "**Montrer qu'il existe deux points d'équilibre $(0,0)$ et $\\bar{x}\\in \\mathbb{R}^*_+\\times\\mathbb{R}^*_+$.**"
   ]
  },
  {
   "cell_type": "markdown",
   "metadata": {},
   "source": [
    "Pour trouver les points d'équilibre, on résout le système suivant :\n",
    "\n",
    "$$\\begin{cases} 0 &=& x_1 \\:(\\alpha -\\beta \\, x_2) \\\\ 0 &=& -x_2\\:(\\gamma - \\delta \\, x_1) \\end{cases}$$ \n",
    "\n",
    "\n",
    "On a dans la première équation $x_1 = 0$ ou $(\\alpha-\\beta\\:x_2) = 0$.\n",
    "\n",
    "* Supposons $x_1 = 0$. On a alors dans la deuxième équation $\\gamma \\: x_2 = 0$ et $\\gamma>0$ d'où $x_2=0$. Ainsi $(0,0)$ est point d'équilibre du système.\n",
    "* On suppose maintenant $(x_1, x_2) \\neq (0,0)$. On a alors nécessairement $(\\alpha -\\beta \\, x_2)=0$ et $(\\gamma - \\delta \\, x_1) = 0$, d'où $(x_1, x_2) = \\left(\\dfrac{\\gamma}{\\delta},\\,\\dfrac{\\alpha}{\\beta}\\right)$.\n",
    "\n",
    "\n"
   ]
  },
  {
   "cell_type": "markdown",
   "metadata": {},
   "source": [
    "**Que peut-on dire de leur stabilité à ce stade ?**"
   ]
  },
  {
   "cell_type": "markdown",
   "metadata": {},
   "source": [
    "On calcule la jacobienne du système : $ J = \\begin{pmatrix} \\alpha - \\beta \\: x_2 & -\\beta\\:x_1 \\\\ \\delta\\:x_2 & -\\gamma + \\delta\\:x_1 \\end{pmatrix}$ .\n",
    "\n",
    "En $0$, cela donne $ J(0) = \\begin{pmatrix} \\alpha & 0 \\\\ 0 & -\\gamma \\end{pmatrix}$. Cette matrice a pour valeurs propres $\\alpha > 0 $ et  $ -\\gamma < 0 $, $0$ est donc un point d'équilibre instable.\n",
    "\n",
    "En $\\bar{x}$, cela donne $ J(\\bar{x}) = \\begin{pmatrix} 0 & -\\frac{\\beta\\gamma}{\\delta} \\\\ \\frac{\\delta\\alpha}{\\beta} & 0 \\end{pmatrix}$. Cette matrice a pour valeurs propres $\\pm i \\sqrt{\\alpha\\gamma}$, de partie réelle nulle, on ne peut donc rien dire sur la stabilité de $\\bar{x}$ ."
   ]
  },
  {
   "cell_type": "markdown",
   "metadata": {},
   "source": [
    "### Question 2\n",
    "**A l'aide des fonctions ``meshgrid`` et ``quiver``, visualiser graphiquement le champ de vecteurs. Intuiter le comportement des solutions. On pourra aussi utiliser `streamplot` pour visualiser le portrait de phase.**"
   ]
  },
  {
   "cell_type": "code",
   "execution_count": null,
   "metadata": {},
   "outputs": [],
   "source": [
    "alpha = 2/3\n",
    "beta = 4/3\n",
    "gamma = 1\n",
    "delta = 1"
   ]
  },
  {
   "cell_type": "code",
   "execution_count": null,
   "metadata": {},
   "outputs": [],
   "source": [
    "def derivees_LV(x1, x2):\n",
    "    return x1*(alpha - beta*x2), -x2*(gamma - delta*x1)\n"
   ]
  },
  {
   "cell_type": "code",
   "execution_count": null,
   "metadata": {},
   "outputs": [],
   "source": [
    "plt.rcParams['figure.figsize'] = [8, 6]\n",
    "\n",
    "# champ de vecteurs\n",
    "N = 25\n",
    "x = np.linspace(2/N,4,N-2)\n",
    "y = np.linspace(2/N,2.5,N-2)\n",
    "X, Y = np.meshgrid(x,y)\n",
    "d_LV = np.vectorize(derivees_LV)\n",
    "plt.quiver(X, Y, X*(alpha - beta*Y), -Y*(gamma - delta*X), linewidth=0.05)\n",
    "\n",
    "# portrait de phase\n",
    "N = 57\n",
    "x = np.linspace(2/N,4,N-2)\n",
    "y = np.linspace(2/N,2.5,N-2)\n",
    "X, Y = np.meshgrid(x,y)\n",
    "plt.streamplot(X, Y, X*(alpha - beta*Y), -Y*(gamma - delta*X), color = -((X*(alpha-beta*Y))**2 + (-Y*(gamma - delta*X))**2), cmap=\"Oranges\")\n",
    "plt.xlim(left=0)\n",
    "plt.suptitle(\"Portrait de phase des équations de Lotka-Volterra et champ de vecteurs associé\", y=0.95)\n",
    "plt.rcParams['figure.figsize'] = [7, 7]"
   ]
  },
  {
   "cell_type": "markdown",
   "metadata": {},
   "source": [
    "A priori, les solutions vont suivre le champ de vecteurs, et donc suivre un cycle\n",
    "* augmentation du nombre de proies à nombre de prédateurs assez faible \n",
    "* augmentation du nombre de prédateurs et diminution du nombre de proies\n",
    "* diminution du nombre de prédateurs à nombre de proies assez faible\n",
    "\n",
    "Et ainsi de suite. \n",
    "\n",
    "(Le cycle peut bien entendu commencer n'importe où en fonction des conditions initiales)"
   ]
  },
  {
   "cell_type": "markdown",
   "metadata": {},
   "source": [
    "### Question 3\n",
    "**Par le théorème de Cauchy-Lipschitz, démontrer que toute solution initialisée dans $\\mathbb{R}^*_+\\times\\mathbb{R}^*_+$ reste dans $\\mathbb{R}^*_+\\times\\mathbb{R}^*_+$ sur son ensemble de définition.**"
   ]
  },
  {
   "cell_type": "markdown",
   "metadata": {},
   "source": [
    "La jacobienne calculée en 1) étant continue, on peut appliquer le théorème de Cauchy-Lipschitz qui assure l'existance et l'unicité des solutions maximales pour toute condition initiale.\n",
    "\n",
    "Si $x_1(0) = 0$, alors $\\dot{x_1}(0) = 0$.\n",
    "\n",
    "Une solution possible est alors que $x_1$ reste nul, et que $x_2(t) = x_2(0) \\exp{(-\\gamma\\,t)}$. Par unicité c'est alors la seule solution. Ainsi, si $x_1$ est nul à un moment, il l'est partout. La situation est similaire pour $x_2$.\n",
    "\n",
    "Ainsi, si une solution est initialisée dans $\\mathbb{R}^*_+\\times\\mathbb{R}^*_+$, elle y reste sur son ensemble de définition puisqu'elle ne peut pas croiser une autre solution."
   ]
  },
  {
   "cell_type": "markdown",
   "metadata": {},
   "source": [
    "### Question 4\n",
    "On considère la fonction $ H(x_1,x_2) = \\delta \\: x_1 - \\gamma \\ln x_1 + \\beta \\: x_2 - \\alpha \\ln x_2$ définie sur $\\mathbb{R}^*_+\\times\\mathbb{R}^*_+$. \n",
    "\n",
    "**Calculer la dérivée de $H$ le long des solutions initialisées dans $\\mathbb{R}^*_+\\times\\mathbb{R}^*_+$.**"
   ]
  },
  {
   "cell_type": "markdown",
   "metadata": {},
   "source": [
    "On a :\n",
    "$\\dot{H} = \\delta \\: \\dot{x_1} - \\gamma \\frac{\\dot{x_1}}{x_1} + \\beta \\: \\dot{x_2} - \\alpha \\frac{\\dot{x_2}}{x_2}  $\n",
    "\n",
    "Or, le long d'une solution on a $\\dot{x}_1 = x_1 \\:(\\alpha -\\beta \\, x_2) $ et $ \\dot{x}_2 = -x_2\\:(\\gamma - \\delta \\, x_1)$, d'où\n",
    "$\\dot{H} = \\delta \\: x_1(\\alpha - \\beta \\, x_2) - \\gamma \\:(\\alpha - \\beta \\, x_2) - \\beta \\: x_2\\:(\\gamma - \\delta \\, x_1) + \\alpha \\: (\\gamma - \\delta \\, x_1) $\n",
    "\n",
    "Ce qui donne $\\dot{H} = 0$ le long des solutions.\n"
   ]
  },
  {
   "cell_type": "markdown",
   "metadata": {},
   "source": [
    "**En déduire que toute solution maximale initialisée dans $\\mathbb{R}^*_+\\times\\mathbb{R}^*_+$ est définie sur $\\mathbb{R}$.**"
   ]
  },
  {
   "cell_type": "markdown",
   "metadata": {},
   "source": [
    "Soit $x$ une solution maximale initialisée dans $\\mathbb{R}^*_+\\times\\mathbb{R}^*_+$.\n",
    "\n",
    "Si elle n'est pas définie sur $\\mathbb{R}$ tout entier, alors elle explose en temps fini, i.e il existe $t_m \\in \\mathbb{R}$ tel que $\\|x\\|$ tende vers l'infini en $t_m$. \n",
    "Or $\\lim_{\\|x\\| \\to +\\infty} H(x) = +\\infty$, donc on a alors $\\lim_{t \\to t_m} H(x(t)) = +\\infty$, ce qui est exclu puisque H est constante le long d'une solution.\n",
    "\n",
    " Donc $x$ est définie sur $\\mathbb{R}$."
   ]
  },
  {
   "cell_type": "markdown",
   "metadata": {},
   "source": [
    "### Question 5\n",
    "**Représenter les courbes de niveau de $H$.  Où se trouve $\\bar{x}$ ? Qu’en conclut-on sur le comportement des solutions ? En déduire (graphiquement) que $\\bar{x}$ est stable, au sens de la définition de stabilité.**"
   ]
  },
  {
   "cell_type": "code",
   "execution_count": null,
   "metadata": {},
   "outputs": [],
   "source": [
    "def H(x1,x2):\n",
    "    return delta * x1 - gamma * np.log(x1) + beta * x2 - alpha * np.log(x2)"
   ]
  },
  {
   "cell_type": "code",
   "execution_count": null,
   "metadata": {},
   "outputs": [],
   "source": [
    "plt.rcParams['figure.figsize'] = [8,7]\n",
    "N = 50\n",
    "t = np.linspace(1/N, 3, N)\n",
    "display_contour(H,t, t, 20)\n",
    "plt.scatter(gamma/delta, alpha/beta, marker='o')\n",
    "plt.suptitle(\"Courbes de niveau de la fonction $H$\", y=0.95)\n",
    "plt.ylim(bottom=0, top=3)\n",
    "plt.xlim(left=0, right=3);\n",
    "\n",
    "plt.rcParams['figure.figsize'] = [7, 7]"
   ]
  },
  {
   "cell_type": "markdown",
   "metadata": {},
   "source": [
    "Comme $H$ est constant le long d'une trajectoire, les solutions suivent les courbes de niveau de $H$. Comme prévu, ces solutions \"tournent\" et forment des trajectoires fermées : au bout d'un certain temps, on revient à la situation initiale. Les solutions sont donc périodiques.\n",
    "\n",
    "$\\bar{x}$ se trouve au centre de ces trajectoires. \n",
    "\n",
    "On peut alors en déduire que $\\bar{x}$ est stable car si l'on initialise une solution proche de $\\bar{x}$, elle va \"tourner autour\" de $\\bar{x}$ sans trop s'en éloigner : en initialisant assez proche de $\\bar{x}$ on peut en rester arbitrairement proche."
   ]
  },
  {
   "cell_type": "markdown",
   "metadata": {},
   "source": [
    "**On souhaite maintenant simuler numériquement les trajectoires.**"
   ]
  },
  {
   "cell_type": "markdown",
   "metadata": {},
   "source": [
    "### Question 6\n",
    "\n",
    "**Coder une fonction du type**\n",
    "```python\n",
    "def solve_euler_explicit(f, x0, dt, t0, tf):\n",
    "     ...\n",
    "    return t, x\n",
    "```\n",
    "**prenant en entrée :**\n",
    "- **une fonction `f`$:\\mathbb{R} \\times \\mathbb{R}^n \\to \\mathbb{R}^n$ quelconque**\n",
    "- **une condition initiale `x0`**\n",
    "- **un pas de temps `dt`**\n",
    "- **les temps initiaux et finaux `t0` et `tf`**\n",
    "\n",
    "**et renvoyant le vecteur des temps $t^j$ et de la solution $x^j$ du schéma d'Euler explicite appliqué à $\\dot{x}=f(t,x)$.**"
   ]
  },
  {
   "cell_type": "code",
   "execution_count": null,
   "metadata": {},
   "outputs": [],
   "source": [
    "def solve_euler_explicit(f, x0, dt, t0, tf):\n",
    "    t = np.arange(t0,tf+dt,dt)\n",
    "    x = [x0]\n",
    "    for date in t[1:]:\n",
    "        x.append(x[-1] + dt * f(date, x[-1]))\n",
    "                 \n",
    "    return t, np.array(x)"
   ]
  },
  {
   "cell_type": "markdown",
   "metadata": {},
   "source": [
    "**La tester sur une équation différentielle aux solutions exactes connues.**"
   ]
  },
  {
   "cell_type": "code",
   "execution_count": null,
   "metadata": {
    "scrolled": false
   },
   "outputs": [],
   "source": [
    "plt.figure()\n",
    "t,x = solve_euler_explicit(lambda t,x:x, 0.36, 0.1,-1, 2)\n",
    "plt.plot(t,x, label=\"Résultat approché par Euler explicite, $dt=0.1$\", linestyle='dashdot', color=\"black\")\n",
    "t,x = solve_euler_explicit(lambda t,x:x, 0.36, 0.01,-1, 2)\n",
    "plt.plot(t,x, label=\"Résultat approché par Euler explicite, $dt=0.01$\", linestyle='dashed', color = 'b')\n",
    "plt.plot(t,np.exp(t), label=r\"Résultat exact donné par $np.exp$\", color=\"green\")\n",
    "plt.grid()\n",
    "plt.suptitle(\"Résolution de l'équation $\\dot x=x$ sur $[-1,2]$ par la méthode d'Euler explicite\", y=0.98)\n",
    "plt.tight_layout()\n",
    "plt.legend();"
   ]
  },
  {
   "cell_type": "markdown",
   "metadata": {},
   "source": [
    "**Vérifier la convergence du schéma lorsque $dt$ tend vers 0.**"
   ]
  },
  {
   "cell_type": "code",
   "execution_count": null,
   "metadata": {},
   "outputs": [],
   "source": [
    "#Maths à la main : \n"
   ]
  },
  {
   "cell_type": "code",
   "execution_count": null,
   "metadata": {
    "scrolled": false
   },
   "outputs": [],
   "source": [
    "# Visualisation graphique :\n",
    "\n",
    "\n",
    "linestyle_tuple = [(0, (1, 1)),\n",
    "                   (0, (5, 7)),\n",
    "                   (0, (5, 5)),\n",
    "                   (0, (3, 7, 1, 7)),\n",
    "                   (0, (3, 5, 1, 5)),\n",
    "                   (0, (3, 5, 1, 5, 1, 5)),\n",
    "                   (0, (3, 10, 1, 10, 1, 10))]\n",
    "\n",
    "\n",
    "plt.figure()\n",
    "plt.rcParams['figure.figsize'] = [9.5, 6.5]\n",
    "for i in range(6):\n",
    "    t,x = solve_euler_explicit(lambda t,x:x, 1, 10**(-i),0, 3)\n",
    "\n",
    "    plt.plot(t,x, label = f\"Résultat approché par Euler explicite, pas $dt=10^{i}$\", linestyle = (0, (1, 2)))\n",
    "    \n",
    "plt.plot(t,np.exp(t), label=r\"Résultat exact donné par $np.exp$\", color='black', linewidth=1)\n",
    "plt.legend()\n",
    "plt.grid();\n",
    "plt.tight_layout()\n",
    "plt.subplots_adjust(top=0.92)\n",
    "plt.suptitle(\"Résultats de la méthode d'Euler explicite pour l'équation $\\dot x = x$ pour différentes valeurs de pas de temps\", y=0.98 );"
   ]
  },
  {
   "cell_type": "markdown",
   "metadata": {},
   "source": [
    "**Comment visualiser graphiquement l'ordre de convergence ?**"
   ]
  },
  {
   "cell_type": "markdown",
   "metadata": {},
   "source": [
    "Par définition, s’il existe $p \\in \\mathbb{N^*}$ et $c_v > 0 $ tels que $\\max\\limits_{1≤j≤J} ‖x_j−x(t_j)‖ ≤ c_v(∆t)^p $ pour tout $\\Delta t$, on dit que le schéma est convergent à l’ordre $p$. En passant au logarithme (qui est strictement croissant), cela revient à $ \\log(\\max_{1≤j≤J} ‖x_j−x(t_j)‖) ≤ \\log(c_v) + p \\log(∆t) $.\n",
    "\n",
    "Si l'on trace $\\log(\\max_{1≤j≤J} ‖x_j−x(t_j)‖)$ en fonction de $\\log(∆t)$, la pente donne alors l'ordre de convergence.\n",
    "\n",
    "*Remarque: pas tout à fait à cause du ≤, mais c'est pas facile à expliquer...*"
   ]
  },
  {
   "cell_type": "code",
   "execution_count": null,
   "metadata": {},
   "outputs": [],
   "source": [
    "plt.figure()\n",
    "delta_t = np.power(10, -np.linspace(0,5,20))\n",
    "liste_max = []\n",
    "for dt in delta_t:\n",
    "    t,x = solve_euler_explicit(lambda t,x:x, 1, dt,0, 2)\n",
    "    liste_max.append(max(abs(x-np.exp(t))))\n",
    "    \n",
    "   \n",
    "plt.plot(np.log(delta_t), np.log(np.array(liste_max)));\n",
    "\n",
    "plt.suptitle(\"Ecart de la solution donnée par la méthode d'Euler explicite à la solution exacte en fonction du pas de temps\", y=0.98)\n",
    "plt.tight_layout()\n",
    "plt.subplots_adjust(top=0.92, bottom=0.1, left = 0.1)\n",
    "\n",
    "plt.xlabel(\"$\\Delta t$\")\n",
    "plt.ylabel(\"Ecart maximal entre solutions approchée et exacte sur l'intervalle $[0,2]$\")\n",
    "plt.grid();"
   ]
  },
  {
   "cell_type": "markdown",
   "metadata": {},
   "source": [
    "On obtient une pente de 1, ce qui permet de visualiser l'ordre 1 du schéma d'Euler."
   ]
  },
  {
   "cell_type": "markdown",
   "metadata": {},
   "source": [
    "### Question 7\n",
    "**Utiliser le schéma d'Euler explicite pour simuler les équations de Lotka-Volterra.**"
   ]
  },
  {
   "cell_type": "code",
   "execution_count": null,
   "metadata": {},
   "outputs": [],
   "source": [
    "def f_LV(x):\n",
    "    x1 = x[0]\n",
    "    x2 = x[1]\n",
    "    return np.array([x1*(alpha - beta*x2), -x2*(gamma - delta*x1)])"
   ]
  },
  {
   "cell_type": "code",
   "execution_count": null,
   "metadata": {
    "scrolled": false
   },
   "outputs": [],
   "source": [
    "plt.rcParams['figure.figsize'] = [9.5, 6]\n",
    "plt.figure()\n",
    "t, x = solve_euler_explicit(lambda t,x:f_LV(x), np.array([1,1]), 0.1,0, 40)\n",
    "plt.plot(t,x) \n",
    "plt.suptitle(\"Résolution des équations de Lotka-Volterra par la méthode d'Euler explicite, $dt=0.1$\", y=0.95)\n",
    "plt.figure()\n",
    "t, x = solve_euler_explicit(lambda t,x:f_LV(x), np.array([1,1]), 0.001,0, 40)\n",
    "plt.plot(t,x)\n",
    "plt.suptitle(\"Résolution des équations de Lotka-Volterra par la méthode d'Euler explicite, $dt=0.001$\", y=0.95)\n",
    "\n",
    "plt.rcParams['figure.figsize'] = [7, 7]                                                \n",
    "                            "
   ]
  },
  {
   "cell_type": "markdown",
   "metadata": {},
   "source": [
    "**Que constate-t-on en temps long ?**"
   ]
  },
  {
   "cell_type": "markdown",
   "metadata": {},
   "source": [
    "Au temps long nous oberservons une dérive de l'évolution ; les maximas atteints sont de plus en plus élevés. Cela se voit particulièrement quand $dt$, le pas de la méthode d'Euler, est élevé."
   ]
  },
  {
   "cell_type": "markdown",
   "metadata": {},
   "source": [
    "**Cette résolution vous semble-t-elle fidèle à la réalité ? On pourra tracer l'évolution de la fonction $H$.**"
   ]
  },
  {
   "cell_type": "code",
   "execution_count": null,
   "metadata": {},
   "outputs": [],
   "source": [
    "def H_vect(x):\n",
    "    x1 = x[:,0]\n",
    "    x2 = x[:,1]\n",
    "    return delta * x1 - gamma * np.log(x1) + beta * x2 - alpha * np.log(x2)"
   ]
  },
  {
   "cell_type": "code",
   "execution_count": null,
   "metadata": {
    "scrolled": false
   },
   "outputs": [],
   "source": [
    "# On trace la fonction H\n",
    "\n",
    "t, x = solve_euler_explicit(lambda t,x:f_LV(x), np.array([1,1]), 0.1,0, 40)\n",
    "\n",
    "plt.figure()\n",
    "plt.suptitle(\"Tracé de la fonction $H$ pour la méthode d'Euler explicite, pas $dt=0.1$\", y=0.95)\n",
    "plt.xlabel(\"$t$\")\n",
    "plt.ylabel(\"$H(x(t))$\")\n",
    "plt.plot(t, H_vect(x));"
   ]
  },
  {
   "cell_type": "markdown",
   "metadata": {},
   "source": [
    "On voit que $H$ dérive progressivement, alors qu'elle devrait être constante au cours de l'évolution. Cette résolution ne correspond donc pas à la réalité."
   ]
  },
  {
   "cell_type": "markdown",
   "metadata": {},
   "source": [
    "### Question 8\n",
    "**Coder maintenant une fonction du type**\n",
    "```python\n",
    "def solve_euler_implicit(f, x0, dt, t0, tf, itermax = 100):\n",
    "    ...\n",
    "    return t, x\n",
    "```\n",
    "**donnant la solution d'un schéma d'Euler implicite appliqué à $\\dot{x}=f(t,x)$ selon la méthode présentée dans le cours.**"
   ]
  },
  {
   "cell_type": "code",
   "execution_count": null,
   "metadata": {},
   "outputs": [],
   "source": [
    "def point_fixe_de_Banach(f, x0, eps=1e-10):\n",
    "    x = x0\n",
    "    while(np.linalg.norm(f(x)-x)>eps):\n",
    "        x = f(x)\n",
    "    return x"
   ]
  },
  {
   "cell_type": "code",
   "execution_count": null,
   "metadata": {},
   "outputs": [],
   "source": [
    "def solve_euler_implicit(f, x0, dt, t0, tf):\n",
    "    \n",
    "    t = np.arange(t0,tf+dt,dt) # soumis au erreurs d'arrondis mais tant pis\n",
    "    x = [x0]\n",
    "    \n",
    "    for date in t[1:]:\n",
    "        # on applique le théorème du point fixe de Banach \n",
    "        x.append(point_fixe_de_Banach(lambda y: (x[-1] + dt * f(date, y)), x[-1]))            \n",
    "                 \n",
    "    return t, np.array(x)"
   ]
  },
  {
   "cell_type": "markdown",
   "metadata": {},
   "source": [
    "**Vérifier de nouveau sa convergence sur des solutions connues.**"
   ]
  },
  {
   "cell_type": "markdown",
   "metadata": {},
   "source": [
    "**Que se passe-t-il cette fois-ci sur les équations de Lotka-Volterra ?**"
   ]
  },
  {
   "cell_type": "code",
   "execution_count": null,
   "metadata": {
    "scrolled": false
   },
   "outputs": [],
   "source": [
    "plt.rcParams['figure.figsize'] = [9.5, 6]\n",
    "t, x = solve_euler_implicit(lambda t,x:f_LV(x), np.array([1,1]), 0.1,0, 40)\n",
    "plt.figure()\n",
    "plt.suptitle(\"Résolution des équations de Lotka-Volterra par la méthode d'Euler implicite, $dt=0.1$\", y=0.95)\n",
    "plt.plot(t,x);\n",
    "\n",
    "t, x = solve_euler_implicit(lambda t,x:f_LV(x), np.array([1,1]), 0.001,0, 40)\n",
    "plt.figure()\n",
    "plt.suptitle(\"Résolution des équations de Lotka-Volterra par la méthode d'Euler implicite, $dt=0.001$\", y=0.95)\n",
    "plt.plot(t,x);\n",
    "plt.rcParams['figure.figsize'] = [7, 7]"
   ]
  },
  {
   "cell_type": "code",
   "execution_count": null,
   "metadata": {},
   "outputs": [],
   "source": [
    "# On trace la fonction H\n",
    "\n",
    "t, x = solve_euler_implicit(lambda t,x:f_LV(x), np.array([1,1]), 0.1,0, 40)\n",
    "\n",
    "plt.figure()\n",
    "plt.suptitle(\"Tracé de la fonction $H$ pour la méthode d'Euler implicite\", y=0.95)\n",
    "plt.plot(t, H_vect(x))\n",
    "plt.xlabel(\"$t$\")\n",
    "plt.ylabel(\"$H(x(t))$\");"
   ]
  },
  {
   "cell_type": "markdown",
   "metadata": {},
   "source": [
    "Nous observons pour la méthode d'Euler implcite une diminution progressive de l'ampleur des solutions, comme si un amortissement avait été introduit dans le système. Cette analyse est confirmée par le tracé de la fonction $H$, qui diminue au fur et à mesure de l'évolution temporelle.\n",
    "\n",
    "Ainsi, aucune des deux méthodes d'Euler, implicite comme explicite, ne parvient à résoudre de manière satisfaisante les équations de Lotka-Volterra."
   ]
  },
  {
   "cell_type": "markdown",
   "metadata": {},
   "source": [
    "$\\qquad$                                                     "
   ]
  },
  {
   "cell_type": "markdown",
   "metadata": {},
   "source": [
    "**On propose maintenant de modifier ces schémas de façon à stabiliser $H$ et assurer sa conservation le long des solutions numériques.**"
   ]
  },
  {
   "cell_type": "markdown",
   "metadata": {},
   "source": [
    "### Question 9\n",
    "**Expliquer pourquoi les solutions de $\\begin{cases} \\dot{x}_1 &=& \\: \\, \\: x_1 \\: (\\alpha -\\beta \\: x_2) - u_1(x_1,x_2)\\cdot(H(x_1,x_2)-H_0) \\\\ \\dot{x}_2 &=& - x_2 \\:(\\gamma - \\delta \\:x_1) - u_2(x_1,x_2)\\cdot (H(x_1,x_2)-H_0) \\end{cases} $**\n",
    "\n",
    "**sont identiques à celles de Lotka-Volterra si $H_0 = H(x(0))$ pour tout choix de $u:\\mathbb{R}^2 \\to \\mathbb{R}^2$.**"
   ]
  },
  {
   "cell_type": "markdown",
   "metadata": {},
   "source": [
    "Notons $(*)$ ce nouveau système.\n",
    "\n",
    "Soit $x = (x_1, x_2)$ une solution de Lotka-Volterra. Si $H_0 = H(x(0))$, comme H est constante sur cette solution on a $H(x_1,x_2) - H_0 = 0$ pour tout t.\n",
    "x est alors ausi solution de $(*)$ puisque dans ces conditions, il se résume aux équations de Lotka-Volterra pour tout $u:\\mathbb{R}^2 \\to \\mathbb{R}^2$.\n",
    "\n",
    "On a donc trouvé une solution à $(*)$ pour toute condition initiale telle que  $H_0 = H(x(0))$, par unicité des solutions maximales (théorème de Cauchy-Lipschitz), on les a toutes.\n",
    "\n",
    "Donc les solutions de $(*)$ sont identiques à celles de Lotka-Volterra si $H_0 = H(x(0))$ pour tout choix de $u:\\mathbb{R}^2 \\to \\mathbb{R}^2$."
   ]
  },
  {
   "cell_type": "markdown",
   "metadata": {},
   "source": [
    "### Question 10\n",
    "**Soit $H_0\\in \\mathbb{R}$. Calculer la dérivée de $H-H_0$ le long des solutions de ce nouveau système. Montrer que l'on peut choisir $u$ tel que $$ \\frac{d }{dt} (H(x(t))-H_0) = -k || \\nabla H(x(t)) ||^2 (H(x(t))-H_0) \\ . $$**"
   ]
  },
  {
   "cell_type": "markdown",
   "metadata": {},
   "source": [
    "On calcule $\\nabla H(x(t))$ :\n",
    "\n",
    "$|| \\nabla H(x(t)) ||^2 = \\left(\\delta -  \\dfrac{\\gamma}{x_1}\\right)^2 + \\left(\\beta - \\dfrac{\\alpha}{x_2}\\right)^2$\n",
    "\n",
    "\n",
    "On a : $\\dfrac{d }{dt} (H(x(t))-H_0) = \\delta \\dot x_1 - \\gamma \\dfrac{\\dot x_1}{x_1} + \\beta \\dot x_2 - \\alpha \\dfrac{\\dot x_2}{x_2}$\n",
    "\n",
    "et donc le long des solutions de ce nouveau système, on a alors :\n",
    "\n",
    "$$\\begin{align} \\dfrac{d }{dt} (H(x(t))-H_0) &= \\left(\\delta - \\dfrac{\\gamma}{x_1}\\right)(x_1(\\alpha - \\beta x_2) - u_1(x_1,x_2)(H(x_1,x_2)-H_0)) + \\left(\\beta - \\dfrac{\\alpha}{x_2}\\right)(-x_2(\\gamma-\\delta x_1)-u_2(x_1,x_2)(H(x_1,x_2)-H_0))\n",
    "\\end{align}\n",
    "$$\n",
    "\n",
    "On veut de plus : $\\dfrac{d }{dt} (H(x(t))-H_0) = -k || \\nabla H(x(t)) ||^2 (H(x(t))-H_0)$ en posant une fonction $u$ adaptée.\n",
    "\n",
    "On veut donc : \n",
    "$$\\begin{cases}\n",
    "\\, \\, \\;  x_1(\\alpha - \\beta x_2) - u_1(x_1,x_2)(H(x_1,x_2)-H_0)&=-k\\left(\\delta - \\dfrac{\\gamma}{x_1}\\right)H(x_1,x_2)-H_0)\\\\\n",
    "-x_2(\\gamma - \\delta x_1)-u_2(x_1,x_2)(H(x_1,x_2)-H_0)&=-k\\left(\\beta - \\dfrac{\\alpha}{x_2}\\right)H(x_1,x_2)-H_0)\n",
    "\\end{cases}\n",
    "$$\n",
    "\n",
    "et donc\n",
    "\n",
    "$$\\begin{cases}\n",
    "u_1(x(t))&=k\\left(\\delta - \\dfrac{\\gamma}{x_1}\\right)+\\dfrac{x_1(\\alpha - \\beta x_2)}{H(x_1,x_2)-H_0)}\\\\\n",
    "u_2(x(t))&=k\\left(\\beta - \\dfrac{\\alpha}{x_2}\\right)-\\dfrac{x_2(\\gamma-\\delta x_1)}{H(x_1,x_2)-H_0)}\n",
    "\\end{cases}\n",
    "$$"
   ]
  },
  {
   "cell_type": "markdown",
   "metadata": {},
   "source": [
    "**En déduire qu'alors $H(x(t))$ converge exponentiellement vers $H_0$ lorsque $t$ tend vers l'infini si $x$ reste à une distance strictement positive de $\\bar{x}$.**"
   ]
  },
  {
   "cell_type": "markdown",
   "metadata": {},
   "source": [
    "Si $x$ reste à une distance strictement positive de $\\bar{x}$, alors il existe $\\epsilon > 0$ tel que $|| \\nabla H(x(t)) ||^2 > \\epsilon$ pour tout t.\n",
    "\n",
    "Alors $\\frac{d }{dt} (H(x(t))-H_0) < -k \\,\\epsilon\\, (H(x(t))-H_0)$\n",
    "\n",
    "d'où $ H(x(t)) - H_0 < \\exp{(-k \\,\\epsilon\\, t)}$\n",
    "\n",
    "i.e $H(x(t))$ converge exponentiellement vers $H_0$ quand $t$ tend vers l'infini."
   ]
  },
  {
   "cell_type": "markdown",
   "metadata": {},
   "source": [
    "### Question 11\n",
    "**En déduire comment modifier l'implémentation du schéma d'Euler pour assurer la stabilité de $H$.**"
   ]
  },
  {
   "cell_type": "code",
   "execution_count": null,
   "metadata": {},
   "outputs": [],
   "source": []
  },
  {
   "cell_type": "markdown",
   "metadata": {},
   "source": [
    "**Quel est le rôle de $k$ ? Peut-il être choisi arbitrairement grand ? Pourquoi ?**"
   ]
  },
  {
   "cell_type": "code",
   "execution_count": null,
   "metadata": {},
   "outputs": [],
   "source": []
  }
 ],
 "metadata": {
  "celltoolbar": "Format de la Cellule Texte Brut",
  "kernelspec": {
   "display_name": "Python 3",
   "language": "python",
   "name": "python3"
  },
  "language_info": {
   "codemirror_mode": {
    "name": "ipython",
    "version": 3
   },
   "file_extension": ".py",
   "mimetype": "text/x-python",
   "name": "python",
   "nbconvert_exporter": "python",
   "pygments_lexer": "ipython3",
   "version": "3.8.3"
  }
 },
 "nbformat": 4,
 "nbformat_minor": 2
}
